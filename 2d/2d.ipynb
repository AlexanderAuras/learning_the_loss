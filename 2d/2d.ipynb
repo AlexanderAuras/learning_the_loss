{
 "cells": [
  {
   "cell_type": "markdown",
   "metadata": {},
   "source": [
    "# Learnable loss"
   ]
  },
  {
   "cell_type": "markdown",
   "metadata": {},
   "source": [
    "## Import librarys and model"
   ]
  },
  {
   "cell_type": "code",
   "execution_count": 1,
   "metadata": {},
   "outputs": [],
   "source": [
    "import torch\n",
    "from torch import nn\n",
    "import numpy as np\n",
    "import matplotlib.pyplot as plt"
   ]
  },
  {
   "cell_type": "markdown",
   "metadata": {},
   "source": [
    "## Generate data"
   ]
  },
  {
   "cell_type": "code",
   "execution_count": 2,
   "metadata": {},
   "outputs": [],
   "source": [
    "training_sample_count = 300\n",
    "x_train = torch.rand((training_sample_count,2), dtype=torch.float32)*4.0-2.0\n",
    "x_train[:,1] = np.sin(5.0*x_train[:,0])\n",
    "x_train[training_sample_count//2:,1] += (0.5+torch.rand(training_sample_count//2)) - (np.random.randn(training_sample_count//2)<0)*2.0\n",
    "y_train = torch.ones((x_train.shape[0]), dtype=torch.long)\n",
    "y_train[training_sample_count//2:] = 0"
   ]
  },
  {
   "cell_type": "code",
   "execution_count": 3,
   "metadata": {},
   "outputs": [
    {
     "data": {
      "image/png": "[encoded data removed]",
      "text/plain": [
       "<Figure size 432x288 with 1 Axes>"
      ]
     },
     "metadata": {
      "needs_background": "light"
     },
     "output_type": "display_data"
    }
   ],
   "source": [
    "plt.plot(x_train[training_sample_count//2:,0],x_train[training_sample_count//2:,1], 'x', label='Class 0')\n",
    "plt.plot(x_train[:training_sample_count//2,0],x_train[:training_sample_count//2,1], 'o', label='Class 1')\n",
    "plt.legend()\n",
    "plt.grid()\n",
    "plt.show()"
   ]
  },
  {
   "cell_type": "code",
   "execution_count": 10,
   "metadata": {},
   "outputs": [],
   "source": [
    "validation_sample_count = 100\n",
    "x_val = torch.rand((validation_sample_count,2), dtype=torch.float32)*4.0-2.0\n",
    "x_val[:,1] = np.sin(5.0*x_val[:,0])\n",
    "x_val[validation_sample_count//2:,1] += (0.5+torch.rand(validation_sample_count//2)) - (np.random.randn(validation_sample_count//2)<0)*2.0\n",
    "y_val = torch.ones((x_val.shape[0]), dtype=torch.long)\n",
    "y_val[validation_sample_count//2:] = 0"
   ]
  },
  {
   "cell_type": "code",
   "execution_count": 11,
   "metadata": {},
   "outputs": [
    {
     "data": {
      "image/png": "[encoded data removed]",
      "text/plain": [
       "<Figure size 432x288 with 1 Axes>"
      ]
     },
     "metadata": {
      "needs_background": "light"
     },
     "output_type": "display_data"
    }
   ],
   "source": [
    "plt.plot(x_val[validation_sample_count//2:,0],x_val[validation_sample_count//2:,1], 'x', label='Class 0')\n",
    "plt.plot(x_val[:validation_sample_count//2,0],x_val[:validation_sample_count//2,1], 'o', label='Class 1')\n",
    "plt.legend()\n",
    "plt.grid()\n",
    "plt.show()"
   ]
  },
  {
   "cell_type": "markdown",
   "metadata": {},
   "source": [
    "## Define model"
   ]
  },
  {
   "cell_type": "code",
   "execution_count": 12,
   "metadata": {},
   "outputs": [],
   "source": [
    "class Net(nn.Module):\n",
    "    def __init__(self):\n",
    "        super(Net, self).__init__()\n",
    "        count_hidden = 100\n",
    "        self.layers = nn.Sequential(\n",
    "            nn.Linear(2, count_hidden),\n",
    "            nn.ReLU(),\n",
    "            nn.Linear(count_hidden, count_hidden),\n",
    "            nn.ReLU(),\n",
    "            nn.Linear(count_hidden, 2)\n",
    "        )\n",
    "\n",
    "    def forward(self, x):\n",
    "        return self.layers(x)"
   ]
  },
  {
   "cell_type": "markdown",
   "metadata": {},
   "source": [
    "## Standard loss"
   ]
  },
  {
   "cell_type": "markdown",
   "metadata": {},
   "source": [
    "### Train model"
   ]
  },
  {
   "cell_type": "code",
   "execution_count": 13,
   "metadata": {},
   "outputs": [
    {
     "name": "stdout",
     "output_type": "stream",
     "text": [
      "Epoch 0:\n",
      "\tTraining loss: 0.6949891448020935\n",
      "\tvalidation loss: 0.698081374168396\n",
      "\n",
      "Epoch 1000:\n",
      "\tTraining loss: 0.5835570693016052\n",
      "\tvalidation loss: 0.637571394443512\n",
      "\n",
      "Epoch 2000:\n",
      "\tTraining loss: 0.5466887950897217\n",
      "\tvalidation loss: 0.6167275905609131\n",
      "\n",
      "Epoch 3000:\n",
      "\tTraining loss: 0.5222426056861877\n",
      "\tvalidation loss: 0.5985224843025208\n",
      "\n",
      "Epoch 4000:\n",
      "\tTraining loss: 0.4986552894115448\n",
      "\tvalidation loss: 0.5789933800697327\n",
      "\n",
      "Epoch 5000:\n",
      "\tTraining loss: 0.47558537125587463\n",
      "\tvalidation loss: 0.5611746311187744\n",
      "\n",
      "Epoch 6000:\n",
      "\tTraining loss: 0.4539342224597931\n",
      "\tvalidation loss: 0.5462777614593506\n",
      "\n",
      "Epoch 7000:\n",
      "\tTraining loss: 0.43363046646118164\n",
      "\tvalidation loss: 0.5324441194534302\n",
      "\n",
      "Epoch 8000:\n",
      "\tTraining loss: 0.41519632935523987\n",
      "\tvalidation loss: 0.5218459963798523\n",
      "\n",
      "Epoch 9000:\n",
      "\tTraining loss: 0.3989006578922272\n",
      "\tvalidation loss: 0.5145913362503052\n",
      "\n",
      "Epoch 10000:\n",
      "\tTraining loss: 0.38413265347480774\n",
      "\tvalidation loss: 0.5103322863578796\n",
      "\n",
      "Epoch 11000:\n",
      "\tTraining loss: 0.37047407031059265\n",
      "\tvalidation loss: 0.5063565373420715\n",
      "\n",
      "Epoch 12000:\n",
      "\tTraining loss: 0.3576294481754303\n",
      "\tvalidation loss: 0.5033681988716125\n",
      "\n",
      "Epoch 13000:\n",
      "\tTraining loss: 0.3449445366859436\n",
      "\tvalidation loss: 0.4997558891773224\n",
      "\n",
      "Epoch 14000:\n",
      "\tTraining loss: 0.33297696709632874\n",
      "\tvalidation loss: 0.4956456124782562\n",
      "\n",
      "Epoch 15000:\n",
      "\tTraining loss: 0.3217293918132782\n",
      "\tvalidation loss: 0.49288544058799744\n",
      "\n",
      "Epoch 16000:\n",
      "\tTraining loss: 0.31047526001930237\n",
      "\tvalidation loss: 0.49024510383605957\n",
      "\n",
      "Epoch 17000:\n",
      "\tTraining loss: 0.29958972334861755\n",
      "\tvalidation loss: 0.4841809570789337\n",
      "\n",
      "Epoch 18000:\n",
      "\tTraining loss: 0.2891499400138855\n",
      "\tvalidation loss: 0.480605810880661\n",
      "\n",
      "Epoch 19000:\n",
      "\tTraining loss: 0.27860701084136963\n",
      "\tvalidation loss: 0.47507980465888977\n",
      "\n",
      "Epoch 20000:\n",
      "\tTraining loss: 0.2685118615627289\n",
      "\tvalidation loss: 0.4700712561607361\n",
      "\n"
     ]
    }
   ],
   "source": [
    "model = Net()\n",
    "loss_function = nn.CrossEntropyLoss()\n",
    "optimizer = torch.optim.SGD(model.parameters(), lr=1e-2)\n",
    "\n",
    "for epoch in range(20001):\n",
    "    if epoch%1000 == 0:\n",
    "        print(f\"Epoch {epoch}:\")\n",
    "\n",
    "    model.train()\n",
    "    z_train = model(x_train)\n",
    "    loss = loss_function(z_train, y_train)\n",
    "    optimizer.zero_grad()\n",
    "    loss.backward()\n",
    "    optimizer.step()\n",
    "    if epoch%1000 == 0:\n",
    "        print(f\"\\tTraining loss: {loss.item()}\")\n",
    "\n",
    "    model.eval()\n",
    "    z_val = model(x_val)\n",
    "    loss = loss_function(z_val, y_val)\n",
    "    if epoch%1000 == 0:\n",
    "        print(f\"\\tvalidation loss: {loss.item()}\\n\")"
   ]
  },
  {
   "cell_type": "markdown",
   "metadata": {},
   "source": [
    "### Evaluate model"
   ]
  },
  {
   "cell_type": "code",
   "execution_count": 14,
   "metadata": {},
   "outputs": [
    {
     "data": {
      "image/png": "[encoded data removed]",
      "text/plain": [
       "<Figure size 432x288 with 1 Axes>"
      ]
     },
     "metadata": {
      "needs_background": "light"
     },
     "output_type": "display_data"
    }
   ],
   "source": [
    "model.eval()\n",
    "with torch.no_grad():\n",
    "    resolution = 100\n",
    "    grid_x, grid_y = torch.meshgrid(torch.linspace(-2.0, 2.0, resolution), torch.linspace(-2.5, 2.5, resolution))\n",
    "    grid = torch.cat((torch.reshape(grid_x, (-1,1)), torch.reshape(grid_y, (-1,1))), 1)\n",
    "\n",
    "    probs = nn.functional.softmax(model(grid), dim=1)\n",
    "    output = torch.reshape(probs[:,0], (resolution,resolution))\n",
    "\n",
    "    plt.contourf(grid_x.detach().numpy(), grid_y.detach().numpy(), output.detach().numpy(), np.linspace(0, 1, 20), cmap=plt.cm.bone)\n",
    "    plt.plot(x_val[validation_sample_count//2:,0],x_val[validation_sample_count//2:,1], 'x', label='Class 0')\n",
    "    plt.plot(x_val[:validation_sample_count//2,0],x_val[:validation_sample_count//2,1], 'o', label='Class 1')\n",
    "    plt.legend()\n",
    "    plt.grid()\n",
    "    plt.show()"
   ]
  },
  {
   "cell_type": "markdown",
   "metadata": {},
   "source": [
    "## Learnable loss"
   ]
  },
  {
   "cell_type": "markdown",
   "metadata": {},
   "source": [
    "### Define parameterized loss function (e.g. label smoothing)"
   ]
  },
  {
   "cell_type": "code",
   "execution_count": 15,
   "metadata": {},
   "outputs": [],
   "source": [
    "class LabelSmoothingLoss(nn.Module):\n",
    "    def __init__(self, smoothing=0.0):\n",
    "        super(LabelSmoothingLoss, self).__init__()\n",
    "        self.smoothing = nn.Parameter(smoothing.clone().detach())\n",
    "\n",
    "    def forward(self, prediction, target):\n",
    "        #assert 0 <= self.smoothing < 1\n",
    "        neglog_softmaxPrediction = -prediction.log_softmax(dim=1)\n",
    "        weights = torch.ones_like(prediction)*self.smoothing/(prediction.shape[1]-1)\n",
    "        smoothedLabels = torch.scatter(weights, 1, target.unsqueeze(1), torch.ones((prediction.shape[0],1))-self.smoothing)\n",
    "        return torch.mean(torch.sum(smoothedLabels*neglog_softmaxPrediction, dim=1))"
   ]
  },
  {
   "cell_type": "markdown",
   "metadata": {},
   "source": [
    "### Bilevel training"
   ]
  },
  {
   "cell_type": "code",
   "execution_count": null,
   "metadata": {},
   "outputs": [],
   "source": [
    "ll_model = Net()\n",
    "ll_loss_function = LabelSmoothingLoss(torch.rand(1)/2.0)\n",
    "ll_model_optimizer = torch.optim.SGD(ll_model.parameters(), lr=1e-2)\n",
    "ll_loss_optimizer = torch.optim.SGD(ll_loss_function.parameters(), lr=1e-2)\n",
    "\n",
    "for epoch in range(20001):\n",
    "    if epoch%1000 == 0:\n",
    "        print(f\"Epoch {epoch}:\")\n",
    "\n",
    "    ll_model.train()\n",
    "    z_train = ll_model(x_train)\n",
    "    loss = ll_loss_function(z_train, y_train)\n",
    "    ll_model_optimizer.zero_grad()\n",
    "    loss.backward()\n",
    "    ll_model_optimizer.step()\n",
    "    \n",
    "    if epoch%1000 == 0:\n",
    "        print(f\"\\tTraining loss: {loss.item()}\")\n",
    "\n",
    "    #ll_model.eval()\n",
    "    z_val = ll_model(x_val)\n",
    "    loss = ll_loss_function(z_val, y_val)\n",
    "\n",
    "    ll_loss_optimizer.zero_grad()\n",
    "    loss.backward()\n",
    "    ll_loss_optimizer.step()\n",
    "    with torch.no_grad():\n",
    "        ll_loss_function.smoothing.copy_(torch.clamp(ll_loss_function.smoothing, 0, 1))\n",
    "\n",
    "    if epoch%1000 == 0:\n",
    "        print(f\"\\tvalidation loss: {loss.item()}\")\n",
    "        print(f\"\\tSmoothing value: {ll_loss_function.smoothing.item()}\")\n",
    "        print()"
   ]
  },
  {
   "cell_type": "markdown",
   "metadata": {},
   "source": [
    "### Evaluate model"
   ]
  },
  {
   "cell_type": "code",
   "execution_count": null,
   "metadata": {},
   "outputs": [],
   "source": [
    "ll_model.eval()\n",
    "with torch.no_grad():\n",
    "    resolution = 100\n",
    "    grid_x, grid_y = torch.meshgrid(torch.linspace(-2.0, 2.0, resolution), torch.linspace(-2.5, 2.5, resolution))\n",
    "    grid = torch.cat((torch.reshape(grid_x, (-1,1)), torch.reshape(grid_y, (-1,1))), 1)\n",
    "    \n",
    "    probs = nn.functional.softmax(ll_model(grid), dim=1)\n",
    "    output = torch.reshape(probs[:,0], (resolution,resolution))\n",
    "\n",
    "    plt.contourf(grid_x.detach().numpy(), grid_y.detach().numpy(), output.detach().numpy(), np.linspace(0, 1, 20), cmap=plt.cm.bone)\n",
    "    plt.plot(x_val[validation_sample_count//2:,0],x_val[validation_sample_count//2:,1], 'x', label='Class 0')\n",
    "    plt.plot(x_val[:validation_sample_count//2,0],x_val[:validation_sample_count//2,1], 'o', label='Class 1')\n",
    "    plt.legend()\n",
    "    plt.grid()\n",
    "    plt.show()"
   ]
  }
 ],
 "metadata": {
  "interpreter": {
   "hash": "2782eec6307456fcfffdbec4f62579a0f367b071ed339ece342e4b52c5497c05"
  },
  "kernelspec": {
   "display_name": "Python 3.9.7 64-bit ('MA': conda)",
   "name": "python3"
  },
  "language_info": {
   "codemirror_mode": {
    "name": "ipython",
    "version": 3
   },
   "file_extension": ".py",
   "mimetype": "text/x-python",
   "name": "python",
   "nbconvert_exporter": "python",
   "pygments_lexer": "ipython3",
   "version": "3.9.7"
  },
  "orig_nbformat": 4
 },
 "nbformat": 4,
 "nbformat_minor": 2
}
